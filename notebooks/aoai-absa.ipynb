{
 "cells": [
  {
   "cell_type": "markdown",
   "metadata": {},
   "source": [
    "# Sample notebook for Azure OpenAI \n"
   ]
  },
  {
   "cell_type": "markdown",
   "metadata": {},
   "source": [
    "First connect to the Azure OpenAI service. You will need to create a resource in Azure and get the key and endpoint. \n"
   ]
  },
  {
   "cell_type": "code",
   "execution_count": null,
   "metadata": {},
   "outputs": [],
   "source": [
    "!pip install openai\n",
    "!pip install python-dotenv\n",
    "!pip install azure-cosmos"
   ]
  },
  {
   "cell_type": "code",
   "execution_count": null,
   "metadata": {},
   "outputs": [],
   "source": [
    "import os\n",
    "import openai\n",
    "from dotenv import load_dotenv\n",
    "\n",
    "import json\n",
    "from azure.cosmos import CosmosClient, PartitionKey\n",
    "import uuid"
   ]
  },
  {
   "cell_type": "code",
   "execution_count": null,
   "metadata": {},
   "outputs": [],
   "source": [
    "load_dotenv()\n",
    "\n",
    "openai.api_type = \"azure\"\n",
    "openai.api_base = \"https://openai79.openai.azure.com/\"\n",
    "openai.api_version = \"2023-05-15\"\n",
    "openai.api_key = os.getenv(\"OPENAI_API_KEY\")\n",
    "\n",
    "response = openai.Completion.create(\n",
    "  # engine=\"gpt-35-turbo\",\n",
    "  engine=\"text-davinci-003\",    \n",
    "  prompt=\"---\\n# Extract the following from the below text:\\n - Extract Item for Sale, Location and Price.\\n - Extract the aspect based sentiment and the overall sentiment.\\n - Aspects are like Delivery, Communication, Packaging, Time, Price, etc.\\n - Sentiment should be positive, negative or neutral for both the aspect based and the overall sentiment.\\n---\\n# Be concise\\n# DO NOT INCLUDE CODE\\n# format the output in a valid JSON format\\n---\\n24\\\" Computer monitor, $50 local pickup in Boise ID. Used for two years but worked great, I just upgraded my setup. the delivery wasn't great though\\n\",\n",
    "  temperature=1,\n",
    "  max_tokens=500,\n",
    "  top_p=0.5,\n",
    "  frequency_penalty=0,\n",
    "  presence_penalty=0)\n",
    "\n",
    "print(response.choices[0].text.strip())"
   ]
  },
  {
   "cell_type": "markdown",
   "metadata": {},
   "source": [
    "Store the output in a JSON file and upload it to Cosmos DB using the Azure Cosmos DB Notebook extension."
   ]
  },
  {
   "cell_type": "code",
   "execution_count": null,
   "metadata": {},
   "outputs": [],
   "source": [
    "# connect to cosmos db\n",
    "\n",
    "load_dotenv()\n",
    "\n",
    "ENDPOINT = os.getenv(\"COSMOS_ENDPOINT\")\n",
    "KEY = os.getenv(\"COSMOS_KEY\")\n",
    "DATABASE_NAME = \"absadb\"\n",
    "CONTAINER_NAME = \"sentiments\"\n",
    "\n",
    "client = CosmosClient(url=ENDPOINT, credential=KEY)\n",
    "database = client.create_database_if_not_exists(id=DATABASE_NAME)\n",
    "print(\"Database\\t\", database.id)\n",
    "\n",
    "key_path = PartitionKey(path=\"/id\")\n",
    "container = database.create_container_if_not_exists(\n",
    "    id=CONTAINER_NAME, partition_key=key_path, offer_throughput=400\n",
    ")\n",
    "print(\"Container\\t\", container.id)"
   ]
  },
  {
   "cell_type": "code",
   "execution_count": null,
   "metadata": {},
   "outputs": [],
   "source": [
    "# add item to cosmos db container\n",
    "z = json.loads(response.choices[0].text.strip())\n",
    "y = {\"id\": str(uuid.uuid4())}\n",
    "z.update(y)\n",
    "\n",
    "container.create_item(z)"
   ]
  },
  {
   "cell_type": "code",
   "execution_count": null,
   "metadata": {},
   "outputs": [],
   "source": []
  },
  {
   "cell_type": "code",
   "execution_count": null,
   "metadata": {},
   "outputs": [],
   "source": []
  }
 ],
 "metadata": {
  "kernelspec": {
   "display_name": "Python 3 (ipykernel)",
   "language": "python",
   "name": "python3"
  },
  "language_info": {
   "codemirror_mode": {
    "name": "ipython",
    "version": 3
   },
   "file_extension": ".py",
   "mimetype": "text/x-python",
   "name": "python",
   "nbconvert_exporter": "python",
   "pygments_lexer": "ipython3",
   "version": "3.11.4"
  }
 },
 "nbformat": 4,
 "nbformat_minor": 4
}
